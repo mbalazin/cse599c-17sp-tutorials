{
 "cells": [
  {
   "cell_type": "markdown",
   "metadata": {},
   "source": [
    "This (still pretty simple) example counts words in a file and keeps track of some metrics about the data as it's processed.  The input will again be Much Ado About Nothing; the output will be \"less_simple_counts\""
   ]
  },
  {
   "cell_type": "code",
   "execution_count": 1,
   "metadata": {
    "collapsed": true
   },
   "outputs": [],
   "source": [
    "import logging\n",
    "logging.getLogger().setLevel(logging.ERROR)\n",
    "logging.basicConfig()\n",
    "\n",
    "import re\n",
    "import apache_beam as beam\n",
    "from apache_beam.io import ReadFromText\n",
    "from apache_beam.io import WriteToText\n",
    "from apache_beam.options.pipeline_options import PipelineOptions\n",
    "from apache_beam.options.pipeline_options import StandardOptions\n",
    "\n",
    "from apache_beam.metrics import Metrics\n",
    "from apache_beam.metrics.metric import MetricsFilter\n",
    "\n",
    "input_file = \"muchAdo.txt\"\n",
    "output_file = \"less_simple_counts\""
   ]
  },
  {
   "cell_type": "markdown",
   "metadata": {},
   "source": [
    "This time, instead of just defining a function, we'll make a class that inherits from ParDo so we can keep track of our metrics "
   ]
  },
  {
   "cell_type": "code",
   "execution_count": 2,
   "metadata": {
    "collapsed": true
   },
   "outputs": [],
   "source": [
    "class WordExtractingDoFn(beam.DoFn):\n",
    "    \"\"\"Parse each line of input text into words.\"\"\"\n",
    "\n",
    "    def __init__(self):\n",
    "        super(WordExtractingDoFn, self).__init__()\n",
    "        self.word_counter = Metrics.counter(self.__class__, 'num_words')\n",
    "        self.word_lengths_dist = Metrics.distribution(self.__class__, 'word_len_dist')\n",
    "        \n",
    "    def process(self, line):\n",
    "        text_line = line.strip()\n",
    "        words = re.findall(r'[A-Za-z\\']+', text_line)\n",
    "        for word in words:\n",
    "            self.word_counter.inc()\n",
    "            self.word_lengths_dist.update(len(word))\n",
    "        return words\n"
   ]
  },
  {
   "cell_type": "markdown",
   "metadata": {},
   "source": [
    "Next, we'll set up the pipeline and the output.  This is all exactly the same as in the previous file, except the name of the function was replaced with the name of the class."
   ]
  },
  {
   "cell_type": "code",
   "execution_count": 3,
   "metadata": {},
   "outputs": [
    {
     "data": {
      "text/plain": [
       "<PCollection[write/Write/WriteImpl/FinalizeWrite.None] at 0x7ff7c0ca9050>"
      ]
     },
     "execution_count": 3,
     "metadata": {},
     "output_type": "execute_result"
    }
   ],
   "source": [
    "options = PipelineOptions()\n",
    "options.view_as(StandardOptions).runner = 'DirectRunner'\n",
    "\n",
    "p = beam.Pipeline(options=options)\n",
    "\n",
    "lines = p | 'read' >> ReadFromText(input_file)\n",
    "\n",
    "counts = (lines\n",
    "          | \"split\" >> (beam.ParDo(WordExtractingDoFn()).with_output_types(unicode))\n",
    "          | \"pair_with_1\" >> beam.Map(lambda x: (x, 1))\n",
    "          | \"group\" >> beam.GroupByKey()\n",
    "          | \"count\" >> beam.Map(lambda(x, ones): (x, sum(ones)))\n",
    "         )\n",
    "\n",
    "output = counts | 'format' >> beam.Map(lambda (word, c): '%s: %s' % (word, c))\n",
    "output | 'write' >> WriteToText(output_file)"
   ]
  },
  {
   "cell_type": "markdown",
   "metadata": {},
   "source": [
    "Again, once the pipeline is set up we want to run it "
   ]
  },
  {
   "cell_type": "code",
   "execution_count": 4,
   "metadata": {
    "collapsed": true
   },
   "outputs": [],
   "source": [
    "result = p.run()"
   ]
  },
  {
   "cell_type": "markdown",
   "metadata": {
    "collapsed": true
   },
   "source": [
    "Finally, we want to see the results of our metrics, so we wait until the pipeline is finished and view the results:"
   ]
  },
  {
   "cell_type": "code",
   "execution_count": 5,
   "metadata": {},
   "outputs": [
    {
     "name": "stdout",
     "output_type": "stream",
     "text": [
      "Average word length: 4.08304042179\n",
      "Number of total words: 22760\n"
     ]
    }
   ],
   "source": [
    "result.wait_until_finish()\n",
    "\n",
    "word_lengths_filter = MetricsFilter().with_name('word_len_dist')\n",
    "query_result = result.metrics().query(word_lengths_filter)\n",
    "if query_result['distributions']:\n",
    "  word_lengths_dist = query_result['distributions'][0]\n",
    "  print 'Average word length: ' + str(word_lengths_dist.committed.mean)\n",
    "    \n",
    "num_words_filer = MetricsFilter().with_name('num_words')\n",
    "query_result = result.metrics().query(num_words_filer)\n",
    "if query_result['counters']:\n",
    "  total_words = query_result['counters'][0]\n",
    "  print 'Number of total words: ' + str(total_words.committed)"
   ]
  },
  {
   "cell_type": "markdown",
   "metadata": {},
   "source": [
    "Now we can see the results (which shouldn't be any different from the previous results)"
   ]
  },
  {
   "cell_type": "code",
   "execution_count": null,
   "metadata": {
    "collapsed": true
   },
   "outputs": [],
   "source": [
    "! diff \"simple_counts-00000-of-00001\" \"less_simple_counts-00000-of-00001\""
   ]
  },
  {
   "cell_type": "code",
   "execution_count": null,
   "metadata": {},
   "outputs": [
    {
     "name": "stdout",
     "output_type": "stream",
     "text": [
      "sunburnt: 1\r\n",
      "pardon: 4\r\n",
      "needful: 1\r\n",
      "foul: 8\r\n",
      "four: 2\r\n",
      "hath: 67\r\n",
      "protest: 4\r\n",
      "sleep: 2\r\n",
      "friend's: 1\r\n",
      "hanging: 1\r\n",
      "appetite: 1\r\n",
      "evermore: 1\r\n",
      "saved: 1\r\n",
      "yonder: 1\r\n",
      "conjure: 1\r\n",
      "muzzle: 1\r\n",
      "vile: 2\r\n",
      "crept: 1\r\n",
      "'Shall: 1\r\n",
      "Watch: 5\r\n",
      "endings: 1\r\n",
      "neighbours: 2\r\n",
      "MUCH: 18\r\n",
      "\u001b[7m--More--(0%)\u001b[m"
     ]
    }
   ],
   "source": [
    "! more \"less_simple_counts-00000-of-00001\""
   ]
  }
 ],
 "metadata": {
  "kernelspec": {
   "display_name": "Python 2",
   "language": "python",
   "name": "python2"
  },
  "language_info": {
   "codemirror_mode": {
    "name": "ipython",
    "version": 2
   },
   "file_extension": ".py",
   "mimetype": "text/x-python",
   "name": "python",
   "nbconvert_exporter": "python",
   "pygments_lexer": "ipython2",
   "version": "2.7.12"
  }
 },
 "nbformat": 4,
 "nbformat_minor": 2
}
