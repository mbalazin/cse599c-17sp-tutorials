{
 "cells": [
  {
   "cell_type": "markdown",
   "metadata": {},
   "source": [
    "This super simple example counts words in a file.  We're going to define the input file as the muchAdo.txt, which contains the play Much Ado About Nothing.  We'll define the output file as \"simple_counts\"."
   ]
  },
  {
   "cell_type": "code",
   "execution_count": 1,
   "metadata": {},
   "outputs": [],
   "source": [
    "import logging\n",
    "logging.getLogger().setLevel(logging.ERROR)\n",
    "logging.basicConfig()\n",
    "\n",
    "import re\n",
    "import apache_beam as beam\n",
    "from apache_beam.io import ReadFromText\n",
    "from apache_beam.io import WriteToText\n",
    "from apache_beam.options.pipeline_options import PipelineOptions\n",
    "from apache_beam.options.pipeline_options import StandardOptions\n",
    "\n",
    "input_file = \"muchAdo.txt\"\n",
    "output_file = \"simple_counts\""
   ]
  },
  {
   "cell_type": "markdown",
   "metadata": {},
   "source": [
    "Next, we define a function that processes the lines how we want (in this case, finding individual words in a line)"
   ]
  },
  {
   "cell_type": "code",
   "execution_count": 2,
   "metadata": {
    "collapsed": true
   },
   "outputs": [],
   "source": [
    "def process_line(line):\n",
    "  \"\"\"Returns an iterator over the words of this line.\n",
    "\n",
    "  Args:\n",
    "    line: the line being processed\n",
    "\n",
    "  Returns:\n",
    "    The processed line.\n",
    "  \"\"\"\n",
    "  text_line = line.strip()\n",
    "  words = re.findall(r'[A-Za-z\\']+', text_line)\n",
    "  return words"
   ]
  },
  {
   "cell_type": "markdown",
   "metadata": {},
   "source": [
    "Next, we'll instantiate the pipeline with our desired runner and set up the pipeline and output "
   ]
  },
  {
   "cell_type": "code",
   "execution_count": 3,
   "metadata": {},
   "outputs": [
    {
     "data": {
      "text/plain": [
       "<PCollection[write/Write/WriteImpl/FinalizeWrite.None] at 0x7f909ad2a8d0>"
      ]
     },
     "execution_count": 3,
     "metadata": {},
     "output_type": "execute_result"
    }
   ],
   "source": [
    "options = PipelineOptions()\n",
    "options.view_as(StandardOptions).runner = 'DirectRunner'\n",
    "\n",
    "p = beam.Pipeline(options=options)\n",
    "\n",
    "lines = p | \"read\" >> ReadFromText(input_file)\n",
    "\n",
    "counts = (lines\n",
    "          | \"split\" >> beam.ParDo(process_line).with_output_types(unicode)\n",
    "          | \"pair_with_1\" >> beam.Map(lambda x: (x, 1))\n",
    "          | \"group\" >> beam.GroupByKey()\n",
    "          | \"count\" >> beam.Map(lambda(x, ones): (x, sum(ones)))\n",
    "        )\n",
    "\n",
    "output = counts | \"format\" >> beam.Map(lambda(word, c): \"%s: %s\"%(word,c))\n",
    "\n",
    "output | \"write\" >> WriteToText(output_file)"
   ]
  },
  {
   "cell_type": "markdown",
   "metadata": {},
   "source": [
    "Now the pipeline is all set up, but it hasn't actually done anything.  The final step is to run it."
   ]
  },
  {
   "cell_type": "code",
   "execution_count": null,
   "metadata": {},
   "outputs": [
    {
     "data": {
      "text/plain": [
       "'DONE'"
      ]
     },
     "execution_count": 4,
     "metadata": {},
     "output_type": "execute_result"
    }
   ],
   "source": [
    "result = p.run()\n",
    "result.wait_until_finish()"
   ]
  },
  {
   "cell_type": "markdown",
   "metadata": {},
   "source": [
    "See the file contents:"
   ]
  },
  {
   "cell_type": "code",
   "execution_count": null,
   "metadata": {},
   "outputs": [
    {
     "name": "stdout",
     "output_type": "stream",
     "text": [
      "sunburnt: 1\r\n",
      "pardon: 4\r\n",
      "needful: 1\r\n",
      "foul: 8\r\n",
      "four: 2\r\n",
      "hath: 67\r\n",
      "protest: 4\r\n",
      "sleep: 2\r\n",
      "friend's: 1\r\n",
      "hanging: 1\r\n",
      "appetite: 1\r\n",
      "evermore: 1\r\n",
      "saved: 1\r\n",
      "yonder: 1\r\n",
      "conjure: 1\r\n",
      "muzzle: 1\r\n",
      "vile: 2\r\n",
      "crept: 1\r\n",
      "'Shall: 1\r\n",
      "Watch: 5\r\n",
      "endings: 1\r\n",
      "neighbours: 2\r\n",
      "MUCH: 18\r\n",
      "\u001b[7m--More--(0%)\u001b[m"
     ]
    }
   ],
   "source": [
    "! more \"simple_counts-00000-of-00001\""
   ]
  }
 ],
 "metadata": {
  "kernelspec": {
   "display_name": "Python 2",
   "language": "python",
   "name": "python2"
  },
  "language_info": {
   "codemirror_mode": {
    "name": "ipython",
    "version": 2
   },
   "file_extension": ".py",
   "mimetype": "text/x-python",
   "name": "python",
   "nbconvert_exporter": "python",
   "pygments_lexer": "ipython2",
   "version": "2.7.12"
  }
 },
 "nbformat": 4,
 "nbformat_minor": 2
}
