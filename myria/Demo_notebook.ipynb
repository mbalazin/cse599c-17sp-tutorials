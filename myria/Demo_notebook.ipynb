{
 "cells": [
  {
   "cell_type": "markdown",
   "metadata": {},
   "source": [
    "# Connecting to Myria"
   ]
  },
  {
   "cell_type": "code",
   "execution_count": null,
   "metadata": {
    "collapsed": true
   },
   "outputs": [],
   "source": [
    "from myria import *\n",
    "import numpy\n",
    "\n",
    "# Load Myria extensions\n",
    "%load_ext myria\n",
    "\n",
    "# Create Jupyter Connection\n",
    "%connect http://localhost:8753 http://localhost:8080"
   ]
  },
  {
   "cell_type": "code",
   "execution_count": null,
   "metadata": {
    "collapsed": true
   },
   "outputs": [],
   "source": [
    "# Alternatively, create an ordinary Python connection to the Myria demo cluster\n",
    "connection = MyriaConnection(rest_url='http://localhost:8753')\n",
    "# Use this as the default connection\n",
    "MyriaRelation.DefaultConnection = connection"
   ]
  },
  {
   "cell_type": "code",
   "execution_count": null,
   "metadata": {
    "collapsed": true
   },
   "outputs": [],
   "source": [
    "# How many datasets are there on the server?\n",
    "print len(connection.datasets())"
   ]
  },
  {
   "cell_type": "code",
   "execution_count": null,
   "metadata": {
    "collapsed": true
   },
   "outputs": [],
   "source": [
    "# Let's look at the first dataset...\n",
    "dataset = connection.datasets()[0]\n",
    "print dataset['relationKey']['relationName']\n",
    "print dataset['created']"
   ]
  },
  {
   "cell_type": "code",
   "execution_count": null,
   "metadata": {
    "collapsed": true
   },
   "outputs": [],
   "source": [
    "# View data stored in this relation\n",
    "MyriaRelation(dataset['relationKey'])"
   ]
  },
  {
   "cell_type": "markdown",
   "metadata": {},
   "source": [
    "## Uploading data"
   ]
  },
  {
   "cell_type": "code",
   "execution_count": null,
   "metadata": {
    "collapsed": true
   },
   "outputs": [],
   "source": [
    "%%query\n",
    "\n",
    "-- Load from S3\n",
    "florida = load(\"https://s3-us-west-2.amazonaws.com/myria-demo-data/fl_insurance_sample_2.csv\",\n",
    "csv(schema(\n",
    "            id:int,\n",
    "            geo:string,\n",
    "            granularity:int,\n",
    "            deductable:float,\n",
    "            policyID:int, \n",
    "            construction:string,\n",
    "            line:string,\n",
    "            county:string,\n",
    "            state:string,\n",
    "            longitude:float,\n",
    "            latitude:float,\n",
    "            fl_site_deductible:float,\n",
    "            hu_site_deductible:float,\n",
    "            eq_site_deductible:float,\n",
    "            tiv_2012:float,\n",
    "            tiv_2011:float,\n",
    "            fr_site_limit:float,\n",
    "            fl_site_limit:float,\n",
    "            hu_site_limit:float,\n",
    "            eq_site_limit:float), skip=1));\n",
    "\n",
    "\n",
    "clay_county = [from florida where county = 'CLAY COUNTY' emit *];\n",
    "\n",
    "store(clay_county, insurance);"
   ]
  },
  {
   "cell_type": "code",
   "execution_count": null,
   "metadata": {
    "collapsed": true
   },
   "outputs": [],
   "source": [
    "# Alternatively, you can upload directly from a Python string\n",
    "name = {'userName': 'Brandon', 'programName': 'Demo', 'relationName': 'Books'}\n",
    "schema = { \"columnNames\" : [\"name\", \"pages\"],\n",
    "           \"columnTypes\" : [\"STRING_TYPE\",\"LONG_TYPE\"] }\n",
    "\n",
    "data = \"\"\"Brave New World,288\n",
    "Nineteen Eighty-Four,376\n",
    "We,256\"\"\"\n",
    "\n",
    "result = connection.upload_file(\n",
    "    name, schema, data, delimiter=',', overwrite=True)\n",
    "\n",
    "MyriaRelation(result['relationKey'], connection=connection)"
   ]
  },
  {
   "cell_type": "markdown",
   "metadata": {},
   "source": [
    "## Working with relations:"
   ]
  },
  {
   "cell_type": "code",
   "execution_count": null,
   "metadata": {
    "collapsed": true
   },
   "outputs": [],
   "source": [
    "# Using the previously-stored insurance relation\n",
    "MyriaRelation(\"insurance\")"
   ]
  },
  {
   "cell_type": "code",
   "execution_count": null,
   "metadata": {
    "collapsed": true
   },
   "outputs": [],
   "source": [
    "# View details about this relation\n",
    "relation = MyriaRelation(\"insurance\")\n",
    "print len(relation)\n",
    "print relation.created_date\n",
    "print relation.schema.names"
   ]
  },
  {
   "cell_type": "code",
   "execution_count": null,
   "metadata": {
    "collapsed": true
   },
   "outputs": [],
   "source": [
    "# 1: Download as a Python dictionary\n",
    "d = MyriaRelation(\"insurance\").to_dict()\n",
    "print 'First entry returned: %s' % d[0]['county']"
   ]
  },
  {
   "cell_type": "code",
   "execution_count": null,
   "metadata": {
    "collapsed": true
   },
   "outputs": [],
   "source": [
    "# 2: Download as a Pandas DataFrame\n",
    "df = MyriaRelation(\"insurance\").to_dataframe()\n",
    "print '%d entries with nonzero deductable' % len(df[df.eq_site_deductible > 0]) "
   ]
  },
  {
   "cell_type": "code",
   "execution_count": null,
   "metadata": {
    "collapsed": true
   },
   "outputs": [],
   "source": [
    "# 3: Download as a DataFrame and convert to a numpy array\n",
    "array = MyriaRelation(\"insurance\").to_dataframe().as_matrix()\n",
    "print 'Mean site limit = %d' % array[:,4].mean()"
   ]
  },
  {
   "cell_type": "markdown",
   "metadata": {},
   "source": [
    "## Working with Queries:"
   ]
  },
  {
   "cell_type": "code",
   "execution_count": null,
   "metadata": {
    "collapsed": true
   },
   "outputs": [],
   "source": [
    "%%query --Embed MyriaL in Jupyter notebook by using the \"%%query\" prefix \n",
    "\n",
    "insurance = scan(insurance);\n",
    "\n",
    "descriptives = [from insurance emit min(eq_site_deductible) as min_deductible, \n",
    "                                    max(eq_site_deductible) as max_deductible, \n",
    "                                    avg(eq_site_deductible) as mean_deductible, \n",
    "                                    stdev(eq_site_deductible) as stdev_deductible];\n",
    "\n",
    "store(descriptives, descriptives);"
   ]
  },
  {
   "cell_type": "code",
   "execution_count": null,
   "metadata": {
    "collapsed": true
   },
   "outputs": [],
   "source": [
    "# Grab the results of the most recent execution\n",
    "query = _\n"
   ]
  },
  {
   "cell_type": "code",
   "execution_count": null,
   "metadata": {
    "collapsed": true
   },
   "outputs": [],
   "source": [
    "query"
   ]
  },
  {
   "cell_type": "code",
   "execution_count": null,
   "metadata": {
    "collapsed": true
   },
   "outputs": [],
   "source": [
    "low, high, destination = 543, 550, 'BoundRelation'"
   ]
  },
  {
   "cell_type": "code",
   "execution_count": null,
   "metadata": {
    "collapsed": true
   },
   "outputs": [],
   "source": [
    "%%query\n",
    "T1 = scan(TwitterK);\n",
    "T2 = [from T1 where $0 > @low and $0 < @high emit $1 as x];\n",
    "store(T2, @destination);"
   ]
  },
  {
   "cell_type": "code",
   "execution_count": null,
   "metadata": {
    "collapsed": true
   },
   "outputs": [],
   "source": [
    "# View details about this relation\n",
    "relation = MyriaRelation(\"BoundRelation\")\n",
    "print len(relation)\n",
    "print relation.created_date\n",
    "print relation.schema.names"
   ]
  },
  {
   "cell_type": "markdown",
   "metadata": {},
   "source": [
    "## Python functions:"
   ]
  },
  {
   "cell_type": "code",
   "execution_count": null,
   "metadata": {
    "collapsed": true
   },
   "outputs": [],
   "source": [
    "from myria import *\n",
    "import numpy\n",
    "import json\n",
    "from myria.connection import MyriaConnection\n",
    "from myria.relation import MyriaRelation\n",
    "from myria.udf import MyriaPythonFunction\n",
    "from raco.types import STRING_TYPE, BOOLEAN_TYPE, LONG_TYPE, BLOB_TYPE\n",
    "\n",
    "#create connection\n",
    "\n",
    "connection = MyriaConnection(rest_url='http://localhost:8753',execution_url='http://localhost:8080')"
   ]
  },
  {
   "cell_type": "code",
   "execution_count": null,
   "metadata": {
    "collapsed": true
   },
   "outputs": [],
   "source": [
    "#register Python functions\n",
    "py = myria.udf.FunctionTypes.PYTHON\n",
    "outType= \"LONG_TYPE\"\n",
    "def pyIsPrime(dt):\n",
    "    import math\n",
    "    n = dt[0][0]\n",
    "    if n % 2 == 0 and n > 2: \n",
    "        return False\n",
    "    for i in range(3, int(math.sqrt(n)) + 1, 2):\n",
    "        if n % i == 0:\n",
    "            return 0\n",
    "    return 1\n",
    "\n",
    "MyriaPythonFunction(pyIsPrime, outType).register()\n"
   ]
  },
  {
   "cell_type": "code",
   "execution_count": null,
   "metadata": {
    "collapsed": true
   },
   "outputs": [],
   "source": [
    "#register a UDA\n",
    "def udfSum(dt):\n",
    "    import numpy as np\n",
    "    tuplist = dt\n",
    "    state = None\n",
    "    for i in tuplist:\n",
    "        imgid = i[2]\n",
    "        subjid = i[1]\n",
    "        img = np.asarray(i[3])\n",
    "        shape = img.shape + (5,)\n",
    "        if state is None:\n",
    "            state = np.empty(shape)\n",
    "            state[:,:,:,imgid]=img\n",
    "        else:\n",
    "            state[:,:,:,imgid]=img\n",
    "    return (state)\n",
    "\n",
    "\n",
    "MyriaPythonFunction(udfAgg, outType).register()\n",
    "#define a UDA\n",
    "q = MyriaQuery.submit(\"\"\"uda foo(subjid,imgid, img) {\n",
    "    [ b'' as tm];\n",
    "   [udfAgg(subjid ,imgid, img )];\n",
    "   [tm];\n",
    "};\n",
    "t = scan(public:adhoc:raw);\n",
    "results = [from t emit t.subjid, t.imgid, foo(t.subjid, t.imgid,t.img) as vox];\n",
    "STORE(results, results);\"\"\", connection=connection)\n",
    "q.status"
   ]
  },
  {
   "cell_type": "code",
   "execution_count": null,
   "metadata": {
    "collapsed": true
   },
   "outputs": [],
   "source": [
    "connection.get_functions()"
   ]
  },
  {
   "cell_type": "code",
   "execution_count": null,
   "metadata": {
    "collapsed": true
   },
   "outputs": [],
   "source": [
    "connection.get_function('py')"
   ]
  },
  {
   "cell_type": "code",
   "execution_count": null,
   "metadata": {
    "collapsed": true
   },
   "outputs": [],
   "source": [
    "q = MyriaQuery.submit(\"\"\" T1 = scan(TwitterK);\n",
    "isPrime = [from T1 emit pyIsPrime(T1.src) as isPrime, T1.src, T1.dst];\n",
    "store( isPrime, TwitterK_isPrime);\"\"\", connection=connection)\n",
    "q.status"
   ]
  },
  {
   "cell_type": "code",
   "execution_count": null,
   "metadata": {
    "collapsed": true
   },
   "outputs": [],
   "source": [
    "q = MyriaQuery.submit(\"\"\" T1 = scan(public:adhoc:TwitterK_isPrime);\n",
    "primeCount = [from T1 emit  sum(T1.isPrime) as prime];\n",
    "store( primeCount, primeCount);\"\"\", connection=connection)\n",
    "q.status"
   ]
  },
  {
   "cell_type": "code",
   "execution_count": null,
   "metadata": {
    "collapsed": true
   },
   "outputs": [],
   "source": [
    "# 1: Download as a Python dictionary\n",
    "d = MyriaRelation(\"primeCount\").to_dict()\n",
    "print 'Number of Users with id that is prime: %s' % d[0]['prime']"
   ]
  }
 ],
 "metadata": {
  "kernelspec": {
   "display_name": "Python 2",
   "language": "python",
   "name": "python2"
  },
  "language_info": {
   "codemirror_mode": {
    "name": "ipython",
    "version": 2
   },
   "file_extension": ".py",
   "mimetype": "text/x-python",
   "name": "python",
   "nbconvert_exporter": "python",
   "pygments_lexer": "ipython2",
   "version": "2.7.13"
  }
 },
 "nbformat": 4,
 "nbformat_minor": 2
}
